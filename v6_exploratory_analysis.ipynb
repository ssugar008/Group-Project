{
 "cells": [
  {
   "cell_type": "code",
   "execution_count": 2,
   "metadata": {
    "collapsed": false,
    "deletable": true,
    "editable": true
   },
   "outputs": [],
   "source": [
    "import nltk.classify.util\n",
    "from nltk.classify import NaiveBayesClassifier\n",
    "from nltk.corpus import movie_reviews\n",
    "from nltk.corpus import stopwords\n",
    "from nltk.tokenize import word_tokenize\n",
    "import pandas as pd"
   ]
  },
  {
   "cell_type": "code",
   "execution_count": 155,
   "metadata": {
    "collapsed": false,
    "deletable": true,
    "editable": true
   },
   "outputs": [],
   "source": [
    "sample = pd.read_csv('final_database_2015_2016.csv', encoding = \"ISO-8859-1\")"
   ]
  },
  {
   "cell_type": "code",
   "execution_count": 156,
   "metadata": {
    "collapsed": false,
    "deletable": true,
    "editable": true
   },
   "outputs": [
    {
     "data": {
      "text/html": [
       "<div>\n",
       "<table border=\"1\" class=\"dataframe\">\n",
       "  <thead>\n",
       "    <tr style=\"text-align: right;\">\n",
       "      <th></th>\n",
       "      <th>Unnamed: 0</th>\n",
       "      <th>Actor1 Id</th>\n",
       "      <th>Actor1 Name</th>\n",
       "      <th>Actor2 Id</th>\n",
       "      <th>Actor2 Name</th>\n",
       "      <th>Actor3 Id</th>\n",
       "      <th>Actor3 Name</th>\n",
       "      <th>Popularity</th>\n",
       "      <th>Release Date</th>\n",
       "      <th>Text</th>\n",
       "      <th>...</th>\n",
       "      <th>production_countries</th>\n",
       "      <th>release_date</th>\n",
       "      <th>revenue</th>\n",
       "      <th>runtime</th>\n",
       "      <th>spoken_languages</th>\n",
       "      <th>status</th>\n",
       "      <th>tagline</th>\n",
       "      <th>video</th>\n",
       "      <th>vote_average</th>\n",
       "      <th>vote_count</th>\n",
       "    </tr>\n",
       "  </thead>\n",
       "  <tbody>\n",
       "    <tr>\n",
       "      <th>0</th>\n",
       "      <td>0</td>\n",
       "      <td>1046143.0</td>\n",
       "      <td>Caity Lotz</td>\n",
       "      <td>17271.0</td>\n",
       "      <td>Brandon Routh</td>\n",
       "      <td>59216.0</td>\n",
       "      <td>Tom Cavanagh</td>\n",
       "      <td>1.907407</td>\n",
       "      <td>2015-10-29</td>\n",
       "      <td>GASI'm america diesel is something else like y...</td>\n",
       "      <td>...</td>\n",
       "      <td>[{'iso_3166_1': 'US', 'name': 'United States o...</td>\n",
       "      <td>2015-10-29</td>\n",
       "      <td>0</td>\n",
       "      <td>91.0</td>\n",
       "      <td>[{'iso_639_1': 'en', 'name': 'English'}]</td>\n",
       "      <td>Released</td>\n",
       "      <td>Time to Kill</td>\n",
       "      <td>False</td>\n",
       "      <td>4.3</td>\n",
       "      <td>132.0</td>\n",
       "    </tr>\n",
       "  </tbody>\n",
       "</table>\n",
       "<p>1 rows × 36 columns</p>\n",
       "</div>"
      ],
      "text/plain": [
       "   Unnamed: 0  Actor1 Id Actor1 Name Actor2 Id    Actor2 Name Actor3 Id  \\\n",
       "0           0  1046143.0  Caity Lotz   17271.0  Brandon Routh   59216.0   \n",
       "\n",
       "    Actor3 Name  Popularity Release Date  \\\n",
       "0  Tom Cavanagh    1.907407   2015-10-29   \n",
       "\n",
       "                                                Text     ...      \\\n",
       "0  GASI'm america diesel is something else like y...     ...       \n",
       "\n",
       "                                production_countries  release_date  revenue  \\\n",
       "0  [{'iso_3166_1': 'US', 'name': 'United States o...    2015-10-29        0   \n",
       "\n",
       "  runtime                          spoken_languages    status       tagline  \\\n",
       "0    91.0  [{'iso_639_1': 'en', 'name': 'English'}]  Released  Time to Kill   \n",
       "\n",
       "   video vote_average  vote_count  \n",
       "0  False          4.3       132.0  \n",
       "\n",
       "[1 rows x 36 columns]"
      ]
     },
     "execution_count": 156,
     "metadata": {},
     "output_type": "execute_result"
    }
   ],
   "source": [
    "sample.head(1)"
   ]
  },
  {
   "cell_type": "code",
   "execution_count": null,
   "metadata": {
    "collapsed": true
   },
   "outputs": [],
   "source": []
  },
  {
   "cell_type": "code",
   "execution_count": 157,
   "metadata": {
    "collapsed": false
   },
   "outputs": [
    {
     "data": {
      "text/plain": [
       "0"
      ]
     },
     "execution_count": 157,
     "metadata": {},
     "output_type": "execute_result"
    }
   ],
   "source": [
    "len(sample[sample['Vote Average'].isnull()])"
   ]
  },
  {
   "cell_type": "code",
   "execution_count": 158,
   "metadata": {
    "collapsed": false,
    "deletable": true,
    "editable": true
   },
   "outputs": [],
   "source": [
    "# sample['Release Date']\n",
    "def make_month(val):\n",
    "    return val.split('-')[1]\n",
    "\n",
    "\n",
    "def make_genres(val):\n",
    "    a= str(val).split(',')\n",
    "    b= [s for s in a if 'name' in s]\n",
    "    c = [s.split('name')[1] for s in b ]\n",
    "    d = ('_').join(c)\n",
    "    return d"
   ]
  },
  {
   "cell_type": "code",
   "execution_count": 160,
   "metadata": {
    "collapsed": false
   },
   "outputs": [
    {
     "data": {
      "text/plain": [
       "0       [{'name': 'Mystery', 'id': 9648}, {'name': 'Sc...\n",
       "1                           [{'name': 'Drama', 'id': 18}]\n",
       "2       [{'name': 'Romance', 'id': 10749}, {'name': 'D...\n",
       "3       [{'name': 'Crime', 'id': 80}, {'name': 'Drama'...\n",
       "4                           [{'name': 'Drama', 'id': 18}]\n",
       "5       [{'name': 'Comedy', 'id': 35}, {'name': 'Drama...\n",
       "6       [{'name': 'Comedy', 'id': 35}, {'name': 'Drama...\n",
       "7       [{'name': 'Drama', 'id': 18}, {'name': 'Thrill...\n",
       "8       [{'name': 'Thriller', 'id': 53}, {'name': 'Rom...\n",
       "9       [{'name': 'Comedy', 'id': 35}, {'name': 'Music...\n",
       "10      [{'name': 'Adventure', 'id': 12}, {'name': 'Co...\n",
       "11      [{'name': 'Drama', 'id': 18}, {'name': 'War', ...\n",
       "12      [{'name': 'Comedy', 'id': 35}, {'name': 'Scien...\n",
       "13      [{'name': 'Romance', 'id': 10749}, {'name': 'C...\n",
       "14                         [{'name': 'Comedy', 'id': 35}]\n",
       "15      [{'name': 'Thriller', 'id': 53}, {'name': 'Sci...\n",
       "16      [{'name': 'Drama', 'id': 18}, {'name': 'Comedy...\n",
       "17      [{'name': 'Adventure', 'id': 12}, {'name': 'Co...\n",
       "18      [{'name': 'Adventure', 'id': 12}, {'name': 'An...\n",
       "19      [{'name': 'Comedy', 'id': 35}, {'name': 'Actio...\n",
       "20      [{'name': 'Documentary', 'id': 99}, {'name': '...\n",
       "21      [{'name': 'Crime', 'id': 80}, {'name': 'Myster...\n",
       "22      [{'name': 'Animation', 'id': 16}, {'name': 'Co...\n",
       "23      [{'name': 'Action', 'id': 28}, {'name': 'Drama...\n",
       "24      [{'name': 'Horror', 'id': 27}, {'name': 'Thril...\n",
       "25      [{'name': 'Drama', 'id': 18}, {'name': 'Romanc...\n",
       "26      [{'name': 'Science Fiction', 'id': 878}, {'nam...\n",
       "27      [{'name': 'Action', 'id': 28}, {'name': 'Adven...\n",
       "28      [{'name': 'History', 'id': 36}, {'name': 'Acti...\n",
       "29                         [{'name': 'Comedy', 'id': 35}]\n",
       "                              ...                        \n",
       "998                   [{'name': 'Documentary', 'id': 99}]\n",
       "999     [{'name': 'Crime', 'id': 80}, {'name': 'Drama'...\n",
       "1000    [{'name': 'Comedy', 'id': 35}, {'name': 'Drama...\n",
       "1001    [{'name': 'Drama', 'id': 18}, {'name': 'Horror...\n",
       "1002    [{'name': 'Adventure', 'id': 12}, {'name': 'Dr...\n",
       "1003    [{'name': 'Thriller', 'id': 53}, {'name': 'Hor...\n",
       "1004                        [{'name': 'Drama', 'id': 18}]\n",
       "1005    [{'name': 'Horror', 'id': 27}, {'name': 'Fanta...\n",
       "1006    [{'name': 'Action', 'id': 28}, {'name': 'Crime...\n",
       "1007    [{'name': 'Comedy', 'id': 35}, {'name': 'Drama...\n",
       "1008    [{'name': 'Crime', 'id': 80}, {'name': 'Action...\n",
       "1009    [{'name': 'Comedy', 'id': 35}, {'name': 'Drama...\n",
       "1010                    [{'name': 'Mystery', 'id': 9648}]\n",
       "1011    [{'name': 'TV Movie', 'id': 10770}, {'name': '...\n",
       "1012                     [{'name': 'Thriller', 'id': 53}]\n",
       "1013    [{'name': 'Drama', 'id': 18}, {'name': 'Comedy...\n",
       "1014                       [{'name': 'Comedy', 'id': 35}]\n",
       "1015    [{'name': 'Thriller', 'id': 53}, {'name': 'Hor...\n",
       "1016    [{'name': 'Thriller', 'id': 53}, {'name': 'Hor...\n",
       "1017    [{'name': 'Science Fiction', 'id': 878}, {'nam...\n",
       "1018                       [{'name': 'Comedy', 'id': 35}]\n",
       "1019    [{'name': 'Adventure', 'id': 12}, {'name': 'Ac...\n",
       "1020    [{'name': 'Adventure', 'id': 12}, {'name': 'Co...\n",
       "1021    [{'name': 'Family', 'id': 10751}, {'name': 'Do...\n",
       "1022    [{'name': 'Animation', 'id': 16}, {'name': 'Fa...\n",
       "1023    [{'name': 'Horror', 'id': 27}, {'name': 'Thril...\n",
       "1024    [{'name': 'Animation', 'id': 16}, {'name': 'Ad...\n",
       "1025                       [{'name': 'Comedy', 'id': 35}]\n",
       "1026                        [{'name': 'Drama', 'id': 18}]\n",
       "1027    [{'name': 'Adventure', 'id': 12}, {'name': 'Dr...\n",
       "Name: genres, dtype: object"
      ]
     },
     "execution_count": 160,
     "metadata": {},
     "output_type": "execute_result"
    }
   ],
   "source": [
    "sample['genres']"
   ]
  },
  {
   "cell_type": "code",
   "execution_count": 161,
   "metadata": {
    "collapsed": false,
    "deletable": true,
    "editable": true
   },
   "outputs": [
    {
     "data": {
      "text/plain": [
       "Index(['Unnamed: 0', 'Actor1 Id', 'Actor1 Name', 'Actor2 Id', 'Actor2 Name',\n",
       "       'Actor3 Id', 'Actor3 Name', 'Popularity', 'Release Date', 'Text',\n",
       "       'Title', 'Vote Average', 'Vote Count', 'adult', 'backdrop_path',\n",
       "       'belongs_to_collection', 'budget', 'homepage', 'id', 'imdb_id',\n",
       "       'original_language', 'original_title', 'overview', 'poster_path',\n",
       "       'production_companies', 'production_countries', 'release_date',\n",
       "       'revenue', 'runtime', 'spoken_languages', 'status', 'tagline', 'video',\n",
       "       'vote_average', 'vote_count', 'rel_month', '': 'Action'',\n",
       "       '': 'Adventure'', '': 'Animation'', '': 'Comedy'', '': 'Crime'',\n",
       "       '': 'Documentary'', '': 'Drama'', '': 'Family'', '': 'Fantasy'',\n",
       "       '': 'History'', '': 'Horror'', '': 'Music'', '': 'Mystery'',\n",
       "       '': 'Romance'', '': 'Science Fiction'', '': 'TV Movie'',\n",
       "       '': 'Thriller'', '': 'War'', '': 'Western''],\n",
       "      dtype='object')"
      ]
     },
     "execution_count": 161,
     "metadata": {},
     "output_type": "execute_result"
    }
   ],
   "source": [
    "sample1 = sample\n",
    "sample1['genres'] = sample1['genres'].apply(make_genres)\n",
    "sample1['rel_month'] = sample['release_date'].apply(make_month)\n",
    "\n",
    "df_genre_data= sample1['genres'].str.get_dummies(sep='_')\n",
    "sample1 = pd.concat([sample1, df_genre_data], axis=1)\n",
    "sample1= sample1.drop(['genres'], axis = 1 )\n",
    "sample1.columns"
   ]
  },
  {
   "cell_type": "code",
   "execution_count": 162,
   "metadata": {
    "collapsed": true
   },
   "outputs": [],
   "source": [
    "def correct_yr(val):\n",
    "    return val.split('-')[0]\n",
    "\n",
    "sample1['Release Date']=  sample1['Release Date'].apply(correct_yr)\n",
    "sample1 = sample1[sample1['Release Date'].isin(['2015','2016'])]"
   ]
  },
  {
   "cell_type": "code",
   "execution_count": 163,
   "metadata": {
    "collapsed": false,
    "deletable": true,
    "editable": true
   },
   "outputs": [
    {
     "name": "stdout",
     "output_type": "stream",
     "text": [
      "860\n"
     ]
    },
    {
     "data": {
      "text/html": [
       "<div>\n",
       "<table border=\"1\" class=\"dataframe\">\n",
       "  <thead>\n",
       "    <tr style=\"text-align: right;\">\n",
       "      <th></th>\n",
       "      <th>Actor1 Id</th>\n",
       "      <th>Actor1 Name</th>\n",
       "      <th>Actor2 Id</th>\n",
       "      <th>Actor2 Name</th>\n",
       "      <th>Actor3 Id</th>\n",
       "      <th>Actor3 Name</th>\n",
       "      <th>Popularity</th>\n",
       "      <th>Release Date</th>\n",
       "      <th>Text</th>\n",
       "      <th>Title</th>\n",
       "      <th>...</th>\n",
       "      <th>': 'History'</th>\n",
       "      <th>': 'Horror'</th>\n",
       "      <th>': 'Music'</th>\n",
       "      <th>': 'Mystery'</th>\n",
       "      <th>': 'Romance'</th>\n",
       "      <th>': 'Science Fiction'</th>\n",
       "      <th>': 'TV Movie'</th>\n",
       "      <th>': 'Thriller'</th>\n",
       "      <th>': 'War'</th>\n",
       "      <th>': 'Western'</th>\n",
       "    </tr>\n",
       "  </thead>\n",
       "  <tbody>\n",
       "    <tr>\n",
       "      <th>0</th>\n",
       "      <td>1046143.0</td>\n",
       "      <td>Caity Lotz</td>\n",
       "      <td>17271.0</td>\n",
       "      <td>Brandon Routh</td>\n",
       "      <td>59216.0</td>\n",
       "      <td>Tom Cavanagh</td>\n",
       "      <td>1.907407</td>\n",
       "      <td>2015</td>\n",
       "      <td>GASI'm america diesel is something else like y...</td>\n",
       "      <td>400 Days</td>\n",
       "      <td>...</td>\n",
       "      <td>0</td>\n",
       "      <td>0</td>\n",
       "      <td>0</td>\n",
       "      <td>1</td>\n",
       "      <td>0</td>\n",
       "      <td>1</td>\n",
       "      <td>0</td>\n",
       "      <td>1</td>\n",
       "      <td>0</td>\n",
       "      <td>0</td>\n",
       "    </tr>\n",
       "    <tr>\n",
       "      <th>1</th>\n",
       "      <td>44079.0</td>\n",
       "      <td>Charlotte Rampling</td>\n",
       "      <td>14011.0</td>\n",
       "      <td>Tom Courtenay</td>\n",
       "      <td>178614.0</td>\n",
       "      <td>Dolly Wells</td>\n",
       "      <td>1.475098</td>\n",
       "      <td>2015</td>\n",
       "      <td>DiegoI like to be able to tell you everything ...</td>\n",
       "      <td>45 Years</td>\n",
       "      <td>...</td>\n",
       "      <td>0</td>\n",
       "      <td>0</td>\n",
       "      <td>0</td>\n",
       "      <td>0</td>\n",
       "      <td>0</td>\n",
       "      <td>0</td>\n",
       "      <td>0</td>\n",
       "      <td>0</td>\n",
       "      <td>0</td>\n",
       "      <td>0</td>\n",
       "    </tr>\n",
       "  </tbody>\n",
       "</table>\n",
       "<p>2 rows × 54 columns</p>\n",
       "</div>"
      ],
      "text/plain": [
       "   Actor1 Id         Actor1 Name Actor2 Id    Actor2 Name Actor3 Id  \\\n",
       "0  1046143.0          Caity Lotz   17271.0  Brandon Routh   59216.0   \n",
       "1    44079.0  Charlotte Rampling   14011.0  Tom Courtenay  178614.0   \n",
       "\n",
       "    Actor3 Name  Popularity Release Date  \\\n",
       "0  Tom Cavanagh    1.907407         2015   \n",
       "1   Dolly Wells    1.475098         2015   \n",
       "\n",
       "                                                Text     Title     ...       \\\n",
       "0  GASI'm america diesel is something else like y...  400 Days     ...        \n",
       "1  DiegoI like to be able to tell you everything ...  45 Years     ...        \n",
       "\n",
       "   ': 'History'  ': 'Horror' ': 'Music' ': 'Mystery' ': 'Romance'  \\\n",
       "0             0            0          0            1            0   \n",
       "1             0            0          0            0            0   \n",
       "\n",
       "   ': 'Science Fiction' ': 'TV Movie'  ': 'Thriller' ': 'War' ': 'Western'  \n",
       "0                     1             0              1        0            0  \n",
       "1                     0             0              0        0            0  \n",
       "\n",
       "[2 rows x 54 columns]"
      ]
     },
     "execution_count": 163,
     "metadata": {},
     "output_type": "execute_result"
    }
   ],
   "source": [
    "print(len(sample1))\n",
    "sample1= sample1.drop('Unnamed: 0',axis=1)\n",
    "sample1.head(2)"
   ]
  },
  {
   "cell_type": "code",
   "execution_count": 164,
   "metadata": {
    "collapsed": false
   },
   "outputs": [],
   "source": [
    "sample1.to_csv(\"15_16_with_month_and_genre.csv\", index=False)"
   ]
  },
  {
   "cell_type": "code",
   "execution_count": 136,
   "metadata": {
    "collapsed": false
   },
   "outputs": [],
   "source": [
    "# pd.read_csv(\"15_16_with_month_and_genre.csv\")"
   ]
  },
  {
   "cell_type": "code",
   "execution_count": 137,
   "metadata": {
    "collapsed": false,
    "deletable": true,
    "editable": true
   },
   "outputs": [],
   "source": [
    "\n",
    "# result= sample1.set_index('Title').join(sample1.set_index('Title'),lsuffix = '_genre',how='left')\n",
    "# print(result.shape)\n",
    "# result = result.drop('Unnamed: 0',axis=1)\n",
    "# result = result.drop('Unnamed: 0_genre',axis=1)\n",
    "# result.head(1)\n"
   ]
  },
  {
   "cell_type": "code",
   "execution_count": 165,
   "metadata": {
    "collapsed": false,
    "deletable": true,
    "editable": true
   },
   "outputs": [
    {
     "data": {
      "text/plain": [
       "0"
      ]
     },
     "execution_count": 165,
     "metadata": {},
     "output_type": "execute_result"
    }
   ],
   "source": [
    "len(sample1[sample1['Vote Average'].isnull()])"
   ]
  },
  {
   "cell_type": "code",
   "execution_count": 166,
   "metadata": {
    "collapsed": false
   },
   "outputs": [
    {
     "data": {
      "text/plain": [
       "499"
      ]
     },
     "execution_count": 166,
     "metadata": {},
     "output_type": "execute_result"
    }
   ],
   "source": [
    "len(sample1[sample1['vote_average'].isnull()])"
   ]
  },
  {
   "cell_type": "code",
   "execution_count": 167,
   "metadata": {
    "collapsed": false,
    "deletable": true,
    "editable": true
   },
   "outputs": [
    {
     "data": {
      "text/plain": [
       "<matplotlib.axes._subplots.AxesSubplot at 0x11f3cfd30>"
      ]
     },
     "execution_count": 167,
     "metadata": {},
     "output_type": "execute_result"
    },
    {
     "data": {
      "image/png": "[encoded data removed]",
      "text/plain": [
       "<matplotlib.figure.Figure at 0x11f3cec50>"
      ]
     },
     "metadata": {},
     "output_type": "display_data"
    }
   ],
   "source": [
    "%matplotlib inline\n",
    "sample1[['rel_month', 'Vote Average']].groupby('rel_month').count().plot()"
   ]
  },
  {
   "cell_type": "code",
   "execution_count": 168,
   "metadata": {
    "collapsed": false,
    "deletable": true,
    "editable": true
   },
   "outputs": [
    {
     "data": {
      "text/plain": [
       "<matplotlib.axes._subplots.AxesSubplot at 0x11f5284e0>"
      ]
     },
     "execution_count": 168,
     "metadata": {},
     "output_type": "execute_result"
    },
    {
     "data": {
      "image/png": "[encoded data removed]",
      "text/plain": [
       "<matplotlib.figure.Figure at 0x11f53f5f8>"
      ]
     },
     "metadata": {},
     "output_type": "display_data"
    }
   ],
   "source": [
    "%matplotlib inline\n",
    "sample1[['rel_month', 'Vote Average']].groupby('rel_month').mean().plot()"
   ]
  },
  {
   "cell_type": "code",
   "execution_count": 263,
   "metadata": {
    "collapsed": false
   },
   "outputs": [
    {
     "data": {
      "text/plain": [
       "6.1370930232558134"
      ]
     },
     "execution_count": 263,
     "metadata": {},
     "output_type": "execute_result"
    }
   ],
   "source": [
    "# sample_genre_categorical.head(5)\n",
    "sample1['Vote Average'].mean()"
   ]
  },
  {
   "cell_type": "code",
   "execution_count": 256,
   "metadata": {
    "collapsed": false
   },
   "outputs": [
    {
     "name": "stdout",
     "output_type": "stream",
     "text": [
      "': 'Action':168\n",
      "': 'Adventure':129\n",
      "': 'Animation':50\n",
      "': 'Comedy':269\n",
      "': 'Crime':88\n",
      "': 'Documentary':29\n",
      "': 'Drama':417\n",
      "': 'Family':47\n",
      "': 'Fantasy':69\n",
      "': 'History':38\n",
      "': 'Horror':133\n",
      "': 'Music':29\n",
      "': 'Mystery':50\n",
      "': 'Romance':93\n",
      "': 'Science Fiction':98\n",
      "': 'TV Movie':10\n",
      "': 'Thriller':256\n",
      "': 'War':24\n",
      "': 'Western':15\n",
      "                      Vote Average\n",
      "genre                             \n",
      "': 'Documentary'          7.148276\n",
      "': 'History'              6.797368\n",
      "': 'War'                  6.766667\n",
      "': 'Music'                6.617241\n",
      "': 'Animation'            6.494000\n",
      "': 'Drama'                6.413429\n",
      "': 'Romance'              6.336559\n",
      "': 'Family'               6.321277\n",
      "': 'Adventure'            6.296899\n",
      "': 'Western'              6.246667\n",
      "': 'Comedy'               6.118587\n",
      "': 'Fantasy'              6.105797\n",
      "': 'Crime'                6.098864\n",
      "': 'Mystery'              6.046000\n",
      "': 'TV Movie'             5.980000\n",
      "': 'Action'               5.944048\n",
      "': 'Thriller'             5.832422\n",
      "': 'Science Fiction'      5.825510\n",
      "': 'Horror'               5.486466\n",
      "                      Vote Average\n",
      "genre                             \n",
      "': 'Drama'                     417\n",
      "': 'Comedy'                    269\n",
      "': 'Thriller'                  256\n",
      "': 'Action'                    168\n",
      "': 'Horror'                    133\n",
      "': 'Adventure'                 129\n",
      "': 'Science Fiction'            98\n",
      "': 'Romance'                    93\n",
      "': 'Crime'                      88\n",
      "': 'Fantasy'                    69\n",
      "': 'Animation'                  50\n",
      "': 'Mystery'                    50\n",
      "': 'Family'                     47\n",
      "': 'History'                    38\n",
      "': 'Music'                      29\n",
      "': 'Documentary'                29\n",
      "': 'War'                        24\n",
      "': 'Western'                    15\n",
      "': 'TV Movie'                   10\n"
     ]
    },
    {
     "name": "stderr",
     "output_type": "stream",
     "text": [
      "//anaconda/envs/pynew/lib/python3.5/site-packages/ipykernel/__main__.py:26: FutureWarning: sort(columns=....) is deprecated, use sort_values(by=.....)\n",
      "//anaconda/envs/pynew/lib/python3.5/site-packages/ipykernel/__main__.py:27: FutureWarning: sort(columns=....) is deprecated, use sort_values(by=.....)\n"
     ]
    }
   ],
   "source": [
    "col_genres = [col for col in sample1.columns if  ':' in col]\n",
    "col_genres\n",
    "# def dummyToCategorical(x):\n",
    "#     temp = ''\n",
    "#     for col in col_list:\n",
    "#         if x[col] == '1':\n",
    "#             if len(temp) == 0:\n",
    "#                 temp = col_dict[col]\n",
    "#             else:\n",
    "#                 temp = temp + '+' + col_dict[col]\n",
    "#     return temp\n",
    "# #df['combined'] = \n",
    "# df[1:].apply(lambda row: dummyToCategorical(row), axis=1)\n",
    "sample_genre_categorical = pd.DataFrame({\"genre\": [], 'Vote Average': []})\n",
    "#print(sample_genre_categorical.shape)\n",
    "\n",
    "for col in col_genres:\n",
    "    print(col + \":\" + str(len(sample1[sample1[col] == 1])))\n",
    "    temp = sample1[sample1[col] == 1][['Vote Average']]\n",
    "   # temp = temp['']\n",
    "    temp['genre'] = col\n",
    "    #print(temp.shape)\n",
    "    #print(temp.head(1))\n",
    "    sample_genre_categorical= sample_genre_categorical.append(temp)\n",
    "#print(sample_genre_categorical.shape)\n",
    "print(sample_genre_categorical.groupby('genre').mean().sort(columns='Vote Average',ascending=False))\n",
    "print(sample_genre_categorical.groupby('genre').count().sort(columns='Vote Average',ascending=False))"
   ]
  },
  {
   "cell_type": "code",
   "execution_count": 257,
   "metadata": {
    "collapsed": false
   },
   "outputs": [
    {
     "name": "stdout",
     "output_type": "stream",
     "text": [
      "': 'Action'\n",
      "Ttest_indResult(statistic=-3.0970591963093099, pvalue=0.0019815125829350912)\n",
      "-\n",
      "': 'Adventure'\n",
      "Ttest_indResult(statistic=1.9587526977808538, pvalue=0.050279846375634464)\n",
      "-\n",
      "': 'Animation'\n",
      "Ttest_indResult(statistic=2.7783346542992806, pvalue=0.0055146123007675761)\n",
      "-\n",
      "': 'Comedy'\n",
      "Ttest_indResult(statistic=-0.57933906737805052, pvalue=0.56242533079841106)\n",
      "-\n",
      "': 'Crime'\n",
      "Ttest_indResult(statistic=-0.52714617738913627, pvalue=0.59815025579524117)\n",
      "-\n",
      "': 'Documentary'\n",
      "Ttest_indResult(statistic=6.1289742537972494, pvalue=1.0615655592214185e-09)\n",
      "-\n",
      "': 'Drama'\n",
      "Ttest_indResult(statistic=6.8939184500852981, pvalue=7.2403062319992579e-12)\n",
      "-\n",
      "': 'Family'\n",
      "Ttest_indResult(statistic=1.3461427589179713, pvalue=0.17840827641617205)\n",
      "-\n",
      "': 'Fantasy'\n",
      "Ttest_indResult(statistic=-0.3988888951096996, pvalue=0.69001744409721)\n",
      "-\n",
      "': 'History'\n",
      "Ttest_indResult(statistic=4.5462080179890672, pvalue=5.7870866834779706e-06)\n",
      "-\n",
      "': 'Horror'\n",
      "Ttest_indResult(statistic=-9.0112047009909393, pvalue=4.6198397340586246e-19)\n",
      "-\n",
      "': 'Music'\n",
      "Ttest_indResult(statistic=2.8545697527729206, pvalue=0.0043536975037905268)\n",
      "-\n",
      "': 'Mystery'\n",
      "Ttest_indResult(statistic=-0.81722222287088098, pvalue=0.41389829795876021)\n",
      "-\n",
      "': 'Romance'\n",
      "Ttest_indResult(statistic=2.086419157541533, pvalue=0.037066439773356621)\n",
      "-\n",
      "': 'Science Fiction'\n",
      "Ttest_indResult(statistic=-3.6749764054922069, pvalue=0.00024410216578648071)\n",
      "-\n",
      "': 'TV Movie'\n",
      "Ttest_indResult(statistic=-0.59595184735895701, pvalue=0.55127449599817457)\n",
      "-\n",
      "': 'Thriller'\n",
      "Ttest_indResult(statistic=-6.1037089918618648, pvalue=1.2402483305989192e-09)\n",
      "-\n",
      "': 'War'\n",
      "Ttest_indResult(statistic=3.4224381907933501, pvalue=0.00063305266191488862)\n",
      "-\n",
      "': 'Western'\n",
      "Ttest_indResult(statistic=0.42944388878783141, pvalue=0.66764624760172087)\n",
      "-\n"
     ]
    }
   ],
   "source": [
    "from scipy import stats\n",
    "for col in col_genres:\n",
    "    print(col)\n",
    "    print(stats.ttest_ind(sample_genre_categorical[sample_genre_categorical['genre']==col]['Vote Average'],sample_genre_categorical[sample_genre_categorical['genre']!=col]['Vote Average']))\n",
    "    print(\"-\")\n"
   ]
  },
  {
   "cell_type": "code",
   "execution_count": null,
   "metadata": {
    "collapsed": true
   },
   "outputs": [],
   "source": []
  },
  {
   "cell_type": "code",
   "execution_count": null,
   "metadata": {
    "collapsed": true
   },
   "outputs": [],
   "source": []
  },
  {
   "cell_type": "code",
   "execution_count": 237,
   "metadata": {
    "collapsed": false
   },
   "outputs": [
    {
     "data": {
      "text/plain": [
       "Index(['Actor1 Id', 'Actor1 Name', 'Actor2 Id', 'Actor2 Name', 'Actor3 Id',\n",
       "       'Actor3 Name', 'Popularity', 'Release Date', 'Text', 'Title',\n",
       "       'Vote Average', 'Vote Count', 'adult', 'backdrop_path',\n",
       "       'belongs_to_collection', 'budget', 'homepage', 'id', 'imdb_id',\n",
       "       'original_language', 'original_title', 'overview', 'poster_path',\n",
       "       'production_companies', 'production_countries', 'release_date',\n",
       "       'revenue', 'runtime', 'spoken_languages', 'status', 'tagline', 'video',\n",
       "       'vote_average', 'vote_count', 'rel_month', '': 'Action'',\n",
       "       '': 'Adventure'', '': 'Animation'', '': 'Comedy'', '': 'Crime'',\n",
       "       '': 'Documentary'', '': 'Drama'', '': 'Family'', '': 'Fantasy'',\n",
       "       '': 'History'', '': 'Horror'', '': 'Music'', '': 'Mystery'',\n",
       "       '': 'Romance'', '': 'Science Fiction'', '': 'TV Movie'',\n",
       "       '': 'Thriller'', '': 'War'', '': 'Western''],\n",
       "      dtype='object')"
      ]
     },
     "execution_count": 237,
     "metadata": {},
     "output_type": "execute_result"
    }
   ],
   "source": [
    "sample1.columns"
   ]
  },
  {
   "cell_type": "code",
   "execution_count": null,
   "metadata": {
    "collapsed": true
   },
   "outputs": [],
   "source": [
    "%matplotlib inline\n",
    "sample1[['rel_month', 'Vote Average']].groupby('rel_month').mean().plot()"
   ]
  },
  {
   "cell_type": "code",
   "execution_count": 74,
   "metadata": {
    "collapsed": true,
    "deletable": true,
    "editable": true
   },
   "outputs": [],
   "source": [
    "#make dummies of months\n",
    "#Linear regression on vote avg using above and indep vars is 12 months"
   ]
  },
  {
   "cell_type": "code",
   "execution_count": 169,
   "metadata": {
    "collapsed": true,
    "deletable": true,
    "editable": true
   },
   "outputs": [],
   "source": [
    "sample2 = sample1"
   ]
  },
  {
   "cell_type": "code",
   "execution_count": 170,
   "metadata": {
    "collapsed": false,
    "deletable": true,
    "editable": true
   },
   "outputs": [],
   "source": [
    "test = pd.get_dummies(sample2['rel_month'], prefix = 'month')\n",
    "sample_month = pd.concat([sample2, test], axis=1)\n"
   ]
  },
  {
   "cell_type": "code",
   "execution_count": 171,
   "metadata": {
    "collapsed": false,
    "deletable": true,
    "editable": true
   },
   "outputs": [
    {
     "data": {
      "text/html": [
       "<div>\n",
       "<table border=\"1\" class=\"dataframe\">\n",
       "  <thead>\n",
       "    <tr style=\"text-align: right;\">\n",
       "      <th></th>\n",
       "      <th>Actor1 Id</th>\n",
       "      <th>Actor1 Name</th>\n",
       "      <th>Actor2 Id</th>\n",
       "      <th>Actor2 Name</th>\n",
       "      <th>Actor3 Id</th>\n",
       "      <th>Actor3 Name</th>\n",
       "      <th>Popularity</th>\n",
       "      <th>Release Date</th>\n",
       "      <th>Text</th>\n",
       "      <th>Title</th>\n",
       "      <th>...</th>\n",
       "      <th>month_03</th>\n",
       "      <th>month_04</th>\n",
       "      <th>month_05</th>\n",
       "      <th>month_06</th>\n",
       "      <th>month_07</th>\n",
       "      <th>month_08</th>\n",
       "      <th>month_09</th>\n",
       "      <th>month_10</th>\n",
       "      <th>month_11</th>\n",
       "      <th>month_12</th>\n",
       "    </tr>\n",
       "  </thead>\n",
       "  <tbody>\n",
       "    <tr>\n",
       "      <th>0</th>\n",
       "      <td>1046143.0</td>\n",
       "      <td>Caity Lotz</td>\n",
       "      <td>17271.0</td>\n",
       "      <td>Brandon Routh</td>\n",
       "      <td>59216.0</td>\n",
       "      <td>Tom Cavanagh</td>\n",
       "      <td>1.907407</td>\n",
       "      <td>2015</td>\n",
       "      <td>GASI'm america diesel is something else like y...</td>\n",
       "      <td>400 Days</td>\n",
       "      <td>...</td>\n",
       "      <td>0</td>\n",
       "      <td>0</td>\n",
       "      <td>0</td>\n",
       "      <td>0</td>\n",
       "      <td>0</td>\n",
       "      <td>0</td>\n",
       "      <td>0</td>\n",
       "      <td>1</td>\n",
       "      <td>0</td>\n",
       "      <td>0</td>\n",
       "    </tr>\n",
       "    <tr>\n",
       "      <th>1</th>\n",
       "      <td>44079.0</td>\n",
       "      <td>Charlotte Rampling</td>\n",
       "      <td>14011.0</td>\n",
       "      <td>Tom Courtenay</td>\n",
       "      <td>178614.0</td>\n",
       "      <td>Dolly Wells</td>\n",
       "      <td>1.475098</td>\n",
       "      <td>2015</td>\n",
       "      <td>DiegoI like to be able to tell you everything ...</td>\n",
       "      <td>45 Years</td>\n",
       "      <td>...</td>\n",
       "      <td>0</td>\n",
       "      <td>0</td>\n",
       "      <td>0</td>\n",
       "      <td>0</td>\n",
       "      <td>0</td>\n",
       "      <td>1</td>\n",
       "      <td>0</td>\n",
       "      <td>0</td>\n",
       "      <td>0</td>\n",
       "      <td>0</td>\n",
       "    </tr>\n",
       "  </tbody>\n",
       "</table>\n",
       "<p>2 rows × 66 columns</p>\n",
       "</div>"
      ],
      "text/plain": [
       "   Actor1 Id         Actor1 Name Actor2 Id    Actor2 Name Actor3 Id  \\\n",
       "0  1046143.0          Caity Lotz   17271.0  Brandon Routh   59216.0   \n",
       "1    44079.0  Charlotte Rampling   14011.0  Tom Courtenay  178614.0   \n",
       "\n",
       "    Actor3 Name  Popularity Release Date  \\\n",
       "0  Tom Cavanagh    1.907407         2015   \n",
       "1   Dolly Wells    1.475098         2015   \n",
       "\n",
       "                                                Text     Title   ...     \\\n",
       "0  GASI'm america diesel is something else like y...  400 Days   ...      \n",
       "1  DiegoI like to be able to tell you everything ...  45 Years   ...      \n",
       "\n",
       "   month_03  month_04 month_05 month_06 month_07  month_08 month_09  month_10  \\\n",
       "0         0         0        0        0        0         0        0         1   \n",
       "1         0         0        0        0        0         1        0         0   \n",
       "\n",
       "  month_11 month_12  \n",
       "0        0        0  \n",
       "1        0        0  \n",
       "\n",
       "[2 rows x 66 columns]"
      ]
     },
     "execution_count": 171,
     "metadata": {},
     "output_type": "execute_result"
    }
   ],
   "source": [
    "sample_month.head(2)"
   ]
  },
  {
   "cell_type": "code",
   "execution_count": 172,
   "metadata": {
    "collapsed": false
   },
   "outputs": [
    {
     "data": {
      "text/plain": [
       "Index(['Actor1 Id', 'Actor1 Name', 'Actor2 Id', 'Actor2 Name', 'Actor3 Id',\n",
       "       'Actor3 Name', 'Popularity', 'Release Date', 'Text', 'Title',\n",
       "       'Vote Average', 'Vote Count', 'adult', 'backdrop_path',\n",
       "       'belongs_to_collection', 'budget', 'homepage', 'id', 'imdb_id',\n",
       "       'original_language', 'original_title', 'overview', 'poster_path',\n",
       "       'production_companies', 'production_countries', 'release_date',\n",
       "       'revenue', 'runtime', 'spoken_languages', 'status', 'tagline', 'video',\n",
       "       'vote_average', 'vote_count', 'rel_month', '': 'Action'',\n",
       "       '': 'Adventure'', '': 'Animation'', '': 'Comedy'', '': 'Crime'',\n",
       "       '': 'Documentary'', '': 'Drama'', '': 'Family'', '': 'Fantasy'',\n",
       "       '': 'History'', '': 'Horror'', '': 'Music'', '': 'Mystery'',\n",
       "       '': 'Romance'', '': 'Science Fiction'', '': 'TV Movie'',\n",
       "       '': 'Thriller'', '': 'War'', '': 'Western'', 'month_01', 'month_02',\n",
       "       'month_03', 'month_04', 'month_05', 'month_06', 'month_07', 'month_08',\n",
       "       'month_09', 'month_10', 'month_11', 'month_12'],\n",
       "      dtype='object')"
      ]
     },
     "execution_count": 172,
     "metadata": {},
     "output_type": "execute_result"
    }
   ],
   "source": [
    "sample_month.columns"
   ]
  },
  {
   "cell_type": "code",
   "execution_count": 197,
   "metadata": {
    "collapsed": false,
    "deletable": true,
    "editable": true
   },
   "outputs": [
    {
     "name": "stdout",
     "output_type": "stream",
     "text": [
      "(860, 12) (860,)\n"
     ]
    }
   ],
   "source": [
    "# cols = [col for col in sample_month.columns if col not in ['Actor1 Id', 'Actor1 Name', 'Actor2 Id', 'Actor2 Name', 'Actor3 Id',\n",
    "#        'Actor3 Name', 'Popularity', 'Release Date', 'Text', 'Title',\n",
    "#        'Vote Average', 'Vote Count', 'adult', 'backdrop_path',\n",
    "#        'belongs_to_collection', 'budget', 'homepage', 'id', 'imdb_id',\n",
    "#        'original_language', 'original_title', 'overview', 'poster_path',\n",
    "#        'production_companies', 'production_countries', 'release_date','vote_average','vote_count','rel_month',\n",
    "#        'revenue', 'runtime', 'spoken_languages', 'status', 'tagline', 'video']]\n",
    "\n",
    "cols = [col for col in sample_month.columns if col  in ['month_01', 'month_02',\n",
    "       'month_03', 'month_04', 'month_05', 'month_06', 'month_07', 'month_08',\n",
    "       'month_09', 'month_10', 'month_11', 'month_12']]\n",
    "X =  sample_month[cols]\n",
    "Y = sample_month['Vote Average'].apply(round)\n",
    "print(X.shape, Y.shape)"
   ]
  },
  {
   "cell_type": "code",
   "execution_count": 198,
   "metadata": {
    "collapsed": false,
    "deletable": true,
    "editable": true
   },
   "outputs": [
    {
     "data": {
      "text/plain": [
       "Index(['month_01', 'month_02', 'month_03', 'month_04', 'month_05', 'month_06',\n",
       "       'month_07', 'month_08', 'month_09', 'month_10', 'month_11', 'month_12'],\n",
       "      dtype='object')"
      ]
     },
     "execution_count": 198,
     "metadata": {},
     "output_type": "execute_result"
    }
   ],
   "source": [
    "X.columns"
   ]
  },
  {
   "cell_type": "code",
   "execution_count": 199,
   "metadata": {
    "collapsed": false,
    "deletable": true,
    "editable": true
   },
   "outputs": [
    {
     "name": "stdout",
     "output_type": "stream",
     "text": [
      "Empty DataFrame\n",
      "Columns: [month_01, month_02, month_03, month_04, month_05, month_06, month_07, month_08, month_09, month_10, month_11, month_12]\n",
      "Index: []\n"
     ]
    }
   ],
   "source": [
    "print(X[X.isnull().any(axis=1)])\n"
   ]
  },
  {
   "cell_type": "code",
   "execution_count": 200,
   "metadata": {
    "collapsed": false
   },
   "outputs": [
    {
     "data": {
      "text/html": [
       "<div>\n",
       "<table border=\"1\" class=\"dataframe\">\n",
       "  <thead>\n",
       "    <tr style=\"text-align: right;\">\n",
       "      <th></th>\n",
       "      <th>month_01</th>\n",
       "      <th>month_02</th>\n",
       "      <th>month_03</th>\n",
       "      <th>month_04</th>\n",
       "      <th>month_05</th>\n",
       "      <th>month_06</th>\n",
       "      <th>month_07</th>\n",
       "      <th>month_08</th>\n",
       "      <th>month_09</th>\n",
       "      <th>month_10</th>\n",
       "      <th>month_11</th>\n",
       "      <th>month_12</th>\n",
       "    </tr>\n",
       "  </thead>\n",
       "  <tbody>\n",
       "    <tr>\n",
       "      <th>0</th>\n",
       "      <td>0</td>\n",
       "      <td>0</td>\n",
       "      <td>0</td>\n",
       "      <td>0</td>\n",
       "      <td>0</td>\n",
       "      <td>0</td>\n",
       "      <td>0</td>\n",
       "      <td>0</td>\n",
       "      <td>0</td>\n",
       "      <td>1</td>\n",
       "      <td>0</td>\n",
       "      <td>0</td>\n",
       "    </tr>\n",
       "  </tbody>\n",
       "</table>\n",
       "</div>"
      ],
      "text/plain": [
       "   month_01  month_02  month_03  month_04  month_05  month_06  month_07  \\\n",
       "0         0         0         0         0         0         0         0   \n",
       "\n",
       "   month_08  month_09  month_10  month_11  month_12  \n",
       "0         0         0         1         0         0  "
      ]
     },
     "execution_count": 200,
     "metadata": {},
     "output_type": "execute_result"
    }
   ],
   "source": [
    "X.head(1)"
   ]
  },
  {
   "cell_type": "code",
   "execution_count": 201,
   "metadata": {
    "collapsed": false
   },
   "outputs": [
    {
     "data": {
      "text/plain": [
       "Series([], Name: Vote Average, dtype: int64)"
      ]
     },
     "execution_count": 201,
     "metadata": {},
     "output_type": "execute_result"
    }
   ],
   "source": [
    "Y[Y.isnull()]"
   ]
  },
  {
   "cell_type": "code",
   "execution_count": 139,
   "metadata": {
    "collapsed": false,
    "deletable": true,
    "editable": true
   },
   "outputs": [
    {
     "name": "stdout",
     "output_type": "stream",
     "text": [
      "((100, 20), (100,))\n"
     ]
    }
   ],
   "source": [
    "# import sklearn.datasets as datasets\n",
    "# X, y = datasets.make_regression(n_samples=100, n_features=20, n_informative=5, bias=0.1, noise=30, random_state=1)\n",
    "# print(X.shape, y.shape)"
   ]
  },
  {
   "cell_type": "code",
   "execution_count": 202,
   "metadata": {
    "collapsed": false,
    "deletable": true,
    "editable": true
   },
   "outputs": [
    {
     "name": "stdout",
     "output_type": "stream",
     "text": [
      "                            OLS Regression Results                            \n",
      "==============================================================================\n",
      "Dep. Variable:           Vote Average   R-squared:                       0.032\n",
      "Model:                            OLS   Adj. R-squared:                  0.019\n",
      "Method:                 Least Squares   F-statistic:                     2.527\n",
      "Date:                Sun, 30 Apr 2017   Prob (F-statistic):            0.00386\n",
      "Time:                        16:07:49   Log-Likelihood:                -1175.4\n",
      "No. Observations:                 860   AIC:                             2375.\n",
      "Df Residuals:                     848   BIC:                             2432.\n",
      "Df Model:                          11                                         \n",
      "Covariance Type:            nonrobust                                         \n",
      "==============================================================================\n",
      "                 coef    std err          t      P>|t|      [0.025      0.975]\n",
      "------------------------------------------------------------------------------\n",
      "month_01       5.8167      0.123     47.138      0.000       5.574       6.059\n",
      "month_02       6.0526      0.127     47.809      0.000       5.804       6.301\n",
      "month_03       6.2069      0.126     49.455      0.000       5.961       6.453\n",
      "month_04       5.9870      0.109     54.964      0.000       5.773       6.201\n",
      "month_05       5.8955      0.117     50.488      0.000       5.666       6.125\n",
      "month_06       6.3289      0.110     57.725      0.000       6.114       6.544\n",
      "month_07       6.0820      0.122     49.697      0.000       5.842       6.322\n",
      "month_08       6.0714      0.114     53.145      0.000       5.847       6.296\n",
      "month_09       6.2143      0.097     64.362      0.000       6.025       6.404\n",
      "month_10       6.2083      0.098     63.641      0.000       6.017       6.400\n",
      "month_11       6.2987      0.109     57.826      0.000       6.085       6.512\n",
      "month_12       6.4603      0.120     53.647      0.000       6.224       6.697\n",
      "==============================================================================\n",
      "Omnibus:                        1.480   Durbin-Watson:                   1.922\n",
      "Prob(Omnibus):                  0.477   Jarque-Bera (JB):                1.448\n",
      "Skew:                          -0.029   Prob(JB):                        0.485\n",
      "Kurtosis:                       2.808   Cond. No.                         1.31\n",
      "==============================================================================\n",
      "\n",
      "Warnings:\n",
      "[1] Standard Errors assume that the covariance matrix of the errors is correctly specified.\n"
     ]
    }
   ],
   "source": [
    "import statsmodels.api as sm\n",
    "import statsmodels.formula.api as smf\n",
    "\n",
    "model = sm.OLS(Y, X)\n",
    "results = model.fit()\n",
    "print(results.summary())\n",
    "    "
   ]
  },
  {
   "cell_type": "code",
   "execution_count": 210,
   "metadata": {
    "collapsed": false,
    "deletable": true,
    "editable": true
   },
   "outputs": [
    {
     "data": {
      "text/plain": [
       "Ttest_indResult(statistic=3.0784785171430591, pvalue=0.0021467984713397959)"
      ]
     },
     "execution_count": 210,
     "metadata": {},
     "output_type": "execute_result"
    }
   ],
   "source": [
    "from scipy import stats\n",
    "stats.ttest_ind(sample_month[sample_month['rel_month']=='12']['Vote Average'],sample_month[sample_month['rel_month']!='12']['Vote Average'])"
   ]
  },
  {
   "cell_type": "code",
   "execution_count": 209,
   "metadata": {
    "collapsed": false
   },
   "outputs": [],
   "source": [
    "# sample_month[sample_month['rel_month']=='12']"
   ]
  },
  {
   "cell_type": "code",
   "execution_count": 259,
   "metadata": {
    "collapsed": false
   },
   "outputs": [
    {
     "data": {
      "text/plain": [
       "array(['10', '08', '11', '03', '12', '05', '09', '06', '02', '07', '04',\n",
       "       '01'], dtype=object)"
      ]
     },
     "execution_count": 259,
     "metadata": {},
     "output_type": "execute_result"
    }
   ],
   "source": [
    "pd.unique(sample_month['rel_month'])"
   ]
  },
  {
   "cell_type": "code",
   "execution_count": 260,
   "metadata": {
    "collapsed": false
   },
   "outputs": [
    {
     "name": "stdout",
     "output_type": "stream",
     "text": [
      "10\n",
      "Ttest_indResult(statistic=0.79123620214056756, pvalue=0.42902483611604991)\n",
      "_\n",
      "08\n",
      "Ttest_indResult(statistic=-0.4797925380773651, pvalue=0.63149719997901488)\n",
      "_\n",
      "11\n",
      "Ttest_indResult(statistic=1.8490384130861037, pvalue=0.064796083914487698)\n",
      "_\n",
      "03\n",
      "Ttest_indResult(statistic=0.36633150972139983, pvalue=0.71420803180006032)\n",
      "_\n",
      "12\n",
      "Ttest_indResult(statistic=3.0784785171430591, pvalue=0.0021467984713397959)\n",
      "_\n",
      "05\n",
      "Ttest_indResult(statistic=-2.1170552734737047, pvalue=0.03454238018214778)\n",
      "_\n",
      "09\n",
      "Ttest_indResult(statistic=1.0946501105737469, pvalue=0.27397714874731904)\n",
      "_\n",
      "06\n",
      "Ttest_indResult(statistic=1.8915513849739702, pvalue=0.05888733745380343)\n",
      "_\n",
      "02\n",
      "Ttest_indResult(statistic=-0.89234455707652482, pvalue=0.37245847036106094)\n",
      "_\n",
      "07\n",
      "Ttest_indResult(statistic=-1.2671923108645267, pvalue=0.20543036758170732)\n",
      "_\n",
      "04\n",
      "Ttest_indResult(statistic=-1.8638870562389351, pvalue=0.062678938787023727)\n",
      "_\n",
      "01\n",
      "Ttest_indResult(statistic=-3.0539085968270556, pvalue=0.0023285699673338493)\n",
      "_\n"
     ]
    }
   ],
   "source": [
    "from scipy import stats\n",
    "for i in pd.unique(sample_month['rel_month']):\n",
    "    print(i)\n",
    "    print(stats.ttest_ind(sample_month[sample_month['rel_month']==i]['Vote Average'],sample_month[sample_month['rel_month']!=i]['Vote Average']))\n",
    "    print(\"_\")"
   ]
  },
  {
   "cell_type": "code",
   "execution_count": null,
   "metadata": {
    "collapsed": true
   },
   "outputs": [],
   "source": []
  }
 ],
 "metadata": {
  "anaconda-cloud": {},
  "kernelspec": {
   "display_name": "Python 3",
   "language": "python",
   "name": "python3"
  },
  "language_info": {
   "codemirror_mode": {
    "name": "ipython",
    "version": 3
   },
   "file_extension": ".py",
   "mimetype": "text/x-python",
   "name": "python",
   "nbconvert_exporter": "python",
   "pygments_lexer": "ipython3",
   "version": "3.5.3"
  }
 },
 "nbformat": 4,
 "nbformat_minor": 1
}
